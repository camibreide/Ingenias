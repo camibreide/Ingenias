{
  "nbformat": 4,
  "nbformat_minor": 0,
  "metadata": {
    "kernelspec": {
      "display_name": "Python 3",
      "language": "python",
      "name": "python3"
    },
    "language_info": {
      "codemirror_mode": {
        "name": "ipython",
        "version": 3
      },
      "file_extension": ".py",
      "mimetype": "text/x-python",
      "name": "python",
      "nbconvert_exporter": "python",
      "pygments_lexer": "ipython3",
      "version": "3.7.3"
    },
    "colab": {
      "provenance": [],
      "include_colab_link": true
    }
  },
  "cells": [
    {
      "cell_type": "markdown",
      "metadata": {
        "id": "view-in-github",
        "colab_type": "text"
      },
      "source": [
        "<a href=\"https://colab.research.google.com/github/camibreide/Ingenias/blob/main/Copia_de_Notebook_5.ipynb\" target=\"_parent\"><img src=\"https://colab.research.google.com/assets/colab-badge.svg\" alt=\"Open In Colab\"/></a>"
      ]
    },
    {
      "cell_type": "markdown",
      "metadata": {
        "id": "Gp2WddtV9IwG"
      },
      "source": [
        "# Programa Ingenias+ Data Science"
      ]
    },
    {
      "cell_type": "markdown",
      "metadata": {
        "id": "H4M1yVbf9IwH"
      },
      "source": [
        "Como dijimos en clases anteriores, Python tiene implementadas muchas librerias para poder trabajar con datos. En la clase de hoy trabajaremos con una de ellas: `Numpy`."
      ]
    },
    {
      "cell_type": "markdown",
      "metadata": {
        "id": "GdTT8WeL9IwI"
      },
      "source": [
        "Antes de comenzar, vamos a hablar un poco de esta libreria o modulo.\n",
        "\n",
        "**Numpy** es una librería optimizada para realizar cálculos numéricos con vectores y matrices. A diferencia de otros lenguajes de programación, Python no posee en su estructura central la figura de matrices. Eso quiere decir que para poder trabajar con esta estructura de datos deberiamos trabajar con listas de listas. NumPy introduce el concepto de arrays o matrices."
      ]
    },
    {
      "cell_type": "markdown",
      "metadata": {
        "id": "qWkq3EHK9IwK"
      },
      "source": [
        "Al ser de código abierto, `numpy` posee una documentación muy amplia que es **SIEMPRE RECOMENDABLE** consultar."
      ]
    },
    {
      "cell_type": "markdown",
      "metadata": {
        "id": "nxe3KLUO9IwL"
      },
      "source": [
        "- [Documentacion NumPy](https://devdocs.io/numpy/)"
      ]
    },
    {
      "cell_type": "markdown",
      "metadata": {
        "id": "l1Ay3nSs9IwN"
      },
      "source": [
        "## Clase 4: Introduccion a NumPy"
      ]
    },
    {
      "cell_type": "markdown",
      "metadata": {
        "id": "X03mviQS9IyL"
      },
      "source": [
        "# Ejercicios\n",
        "\n",
        "1. Crear un arreglo de ceros de longitud 12\n",
        "2. Crear un arreglo de longitud 10 con ceros en todas sus posiciones y un 10 en la posición número 5\n",
        "3. Crear un arreglo que tenga los números del 10 al 49\n",
        "4. Crear una arreglo 2d de shape (3, 3) que tenga los números del 0 al 8\n",
        "5. Crear un arreglo de números aleatorios de longitud 100 y obtener su media y varianza\n",
        "6. Calcular la media de un arreglo usando np.sum\n",
        "7. Calcular la varianza de un arreglo usando np.sum y np.mean\n",
        "8. Crear un array de números aleatorios usando np.random.randn.\n"
      ]
    },
    {
      "cell_type": "code",
      "source": [
        "import numpy as np"
      ],
      "metadata": {
        "id": "K5vA5y1PB6iM"
      },
      "execution_count": 2,
      "outputs": []
    },
    {
      "cell_type": "code",
      "metadata": {
        "id": "G0NMKT609IyM",
        "outputId": "4dce982c-dc4c-46d1-eed8-4e150e9a7530",
        "colab": {
          "base_uri": "https://localhost:8080/"
        }
      },
      "source": [
        "#1) Crear un arreglo de ceros de longitud 12\n",
        "p1=np.zeros(12)\n",
        "p1"
      ],
      "execution_count": null,
      "outputs": [
        {
          "output_type": "execute_result",
          "data": {
            "text/plain": [
              "array([0., 0., 0., 0., 0., 0., 0., 0., 0., 0., 0., 0.])"
            ]
          },
          "metadata": {},
          "execution_count": 4
        }
      ]
    },
    {
      "cell_type": "code",
      "source": [
        "#2) Crear un arreglo de longitud 10 con ceros en todas sus posiciones y un 10 en la posición número 5\n",
        "p2=np.zeros(10)\n",
        "p2[4]=10\n",
        "p2"
      ],
      "metadata": {
        "id": "qh8uD3K-CCZ8",
        "outputId": "ba203828-f590-4be2-c452-53fa0ed5944f",
        "colab": {
          "base_uri": "https://localhost:8080/"
        }
      },
      "execution_count": null,
      "outputs": [
        {
          "output_type": "execute_result",
          "data": {
            "text/plain": [
              "array([ 0.,  0.,  0.,  0., 10.,  0.,  0.,  0.,  0.,  0.])"
            ]
          },
          "metadata": {},
          "execution_count": 7
        }
      ]
    },
    {
      "cell_type": "code",
      "source": [
        "#3) Crear un arreglo que tenga los números del 10 al 49\n",
        "p3 = np.array(range(10, 50))\n",
        "p3"
      ],
      "metadata": {
        "id": "C6Jl3gZ6DMJb",
        "outputId": "c4052ac1-ed20-4e5a-8b37-551be0bfe804",
        "colab": {
          "base_uri": "https://localhost:8080/"
        }
      },
      "execution_count": null,
      "outputs": [
        {
          "output_type": "execute_result",
          "data": {
            "text/plain": [
              "array([10, 11, 12, 13, 14, 15, 16, 17, 18, 19, 20, 21, 22, 23, 24, 25, 26,\n",
              "       27, 28, 29, 30, 31, 32, 33, 34, 35, 36, 37, 38, 39, 40, 41, 42, 43,\n",
              "       44, 45, 46, 47, 48, 49])"
            ]
          },
          "metadata": {},
          "execution_count": 9
        }
      ]
    },
    {
      "cell_type": "code",
      "source": [
        "#4) Crear una arreglo 2d de shape (3, 3) que tenga los números del 0 al 8\n",
        "p4=np.array([[0,1,2],[3,4,5],[6,7,8]])\n",
        "p4"
      ],
      "metadata": {
        "id": "Hdc_3JBuDWWe",
        "colab": {
          "base_uri": "https://localhost:8080/"
        },
        "outputId": "cb05515c-b51c-45b6-bc04-aecff5d3a58e"
      },
      "execution_count": 8,
      "outputs": [
        {
          "output_type": "execute_result",
          "data": {
            "text/plain": [
              "array([[0, 1, 2],\n",
              "       [3, 4, 5],\n",
              "       [6, 7, 8]])"
            ]
          },
          "metadata": {},
          "execution_count": 8
        }
      ]
    },
    {
      "cell_type": "code",
      "source": [
        "#5) Crear un arreglo de números aleatorios de longitud 100 y obtener su media y varianza\n",
        "p5=np.random.rand(100)\n",
        "#da valores de 0 a 1\n",
        "#para elegir el rango de los valores np.random.randint(): Generates an array of random integers within a specified range.\n",
        "media=np.mean(p5)\n",
        "varianza=np.var(p5)\n",
        "print(p5, media, varianza)"
      ],
      "metadata": {
        "colab": {
          "base_uri": "https://localhost:8080/"
        },
        "id": "rJG_YwYjERXr",
        "outputId": "5099265b-de5f-46a9-c939-0e9b4c1b991f"
      },
      "execution_count": 11,
      "outputs": [
        {
          "output_type": "stream",
          "name": "stdout",
          "text": [
            "[0.31161979 0.38650434 0.09863519 0.66505713 0.04371009 0.04346441\n",
            " 0.00157533 0.47488545 0.92856308 0.55363984 0.74754799 0.77310829\n",
            " 0.66115328 0.40852199 0.39834184 0.44179453 0.15229965 0.04420188\n",
            " 0.69026732 0.44364128 0.43136055 0.47878429 0.92564998 0.12642352\n",
            " 0.43437587 0.14243736 0.52362975 0.06198158 0.82997495 0.95131152\n",
            " 0.90569416 0.0546082  0.1763406  0.30734332 0.47018742 0.9577853\n",
            " 0.58843857 0.14943198 0.74064295 0.56204747 0.41490522 0.83359711\n",
            " 0.5143636  0.47194773 0.473874   0.01124687 0.45759053 0.47398459\n",
            " 0.65250679 0.50809455 0.92945063 0.22192863 0.78307287 0.25649302\n",
            " 0.74727024 0.0813986  0.33535288 0.991639   0.88445023 0.25303306\n",
            " 0.36291746 0.86289701 0.77283478 0.06052443 0.78382663 0.87166587\n",
            " 0.9623765  0.79873046 0.33151436 0.4866754  0.37433232 0.04382547\n",
            " 0.77549841 0.1650897  0.32592659 0.4201107  0.67088143 0.24811117\n",
            " 0.51431745 0.36466912 0.5071326  0.46248721 0.2888419  0.24888133\n",
            " 0.39963927 0.60321115 0.90218579 0.58658917 0.81859627 0.79132548\n",
            " 0.66343841 0.62357243 0.68397334 0.6254748  0.55563815 0.2293514\n",
            " 0.61065243 0.25333796 0.96016099 0.93601394] 0.5033041142816687 0.07667120369406082\n"
          ]
        }
      ]
    },
    {
      "cell_type": "code",
      "source": [
        "#6) Calcular la media de un arreglo usando np.sum\n",
        "media6=np.sum(p5)/np.size(p5)\n",
        "media6\n",
        "#utilizo el array del punto 5 para poder verificar facilmente los resultados"
      ],
      "metadata": {
        "colab": {
          "base_uri": "https://localhost:8080/"
        },
        "id": "8gUoHJafFc6i",
        "outputId": "82d33e2b-4cf4-468d-c904-6b3fb8942cb1"
      },
      "execution_count": 13,
      "outputs": [
        {
          "output_type": "execute_result",
          "data": {
            "text/plain": [
              "0.5033041142816687"
            ]
          },
          "metadata": {},
          "execution_count": 13
        }
      ]
    },
    {
      "cell_type": "code",
      "source": [
        "#7) Calcular la varianza de un arreglo usando np.sum y np.mean\n",
        "var7=(np.sum((p5-np.mean(p5))*(p5-np.mean(p5))))/(np.size(p5)-1)\n",
        "var7"
      ],
      "metadata": {
        "colab": {
          "base_uri": "https://localhost:8080/"
        },
        "id": "pMzoNtG7GFJG",
        "outputId": "2ebee322-2082-4f14-ec9f-7e10d642c806"
      },
      "execution_count": 19,
      "outputs": [
        {
          "output_type": "execute_result",
          "data": {
            "text/plain": [
              "0.07744566029703112"
            ]
          },
          "metadata": {},
          "execution_count": 19
        }
      ]
    },
    {
      "cell_type": "code",
      "source": [
        "#Crear un array de números aleatorios usando np.random.randn.\n",
        "p8=np.random.randn(6)\n",
        "p8"
      ],
      "metadata": {
        "colab": {
          "base_uri": "https://localhost:8080/"
        },
        "id": "eoKAsBrHHJN_",
        "outputId": "34f57a9d-f06d-47a2-b7ca-9162fce5a7b9"
      },
      "execution_count": 20,
      "outputs": [
        {
          "output_type": "execute_result",
          "data": {
            "text/plain": [
              "array([ 0.72008556, -0.8158801 ,  0.68417374, -1.12663225, -0.86385276,\n",
              "        0.27957249])"
            ]
          },
          "metadata": {},
          "execution_count": 20
        }
      ]
    },
    {
      "cell_type": "code",
      "source": [],
      "metadata": {
        "id": "x0tkqMtFHVwb"
      },
      "execution_count": null,
      "outputs": []
    }
  ]
}